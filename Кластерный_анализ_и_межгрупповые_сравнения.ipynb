{
  "cells": [
    {
      "cell_type": "markdown",
      "metadata": {
        "id": "view-in-github",
        "colab_type": "text"
      },
      "source": [
        "<a href=\"https://colab.research.google.com/github/Paladin-88/data-science/blob/main/%D0%9A%D0%BB%D0%B0%D1%81%D1%82%D0%B5%D1%80%D0%BD%D1%8B%D0%B9_%D0%B0%D0%BD%D0%B0%D0%BB%D0%B8%D0%B7_%D0%B8_%D0%BC%D0%B5%D0%B6%D0%B3%D1%80%D1%83%D0%BF%D0%BF%D0%BE%D0%B2%D1%8B%D0%B5_%D1%81%D1%80%D0%B0%D0%B2%D0%BD%D0%B5%D0%BD%D0%B8%D1%8F.ipynb\" target=\"_parent\"><img src=\"https://colab.research.google.com/assets/colab-badge.svg\" alt=\"Open In Colab\"/></a>"
      ]
    },
    {
      "cell_type": "markdown",
      "id": "a2d12978",
      "metadata": {
        "id": "a2d12978"
      },
      "source": [
        "# Отчет составил: Наумов Михаил Андреевич"
      ]
    },
    {
      "cell_type": "raw",
      "id": "75286324",
      "metadata": {
        "id": "75286324"
      },
      "source": [
        "На основе переменных о количестве (кликов в адрес, во вход, в карточку), а также о количестве пользователей и медианном расстоянии от пользователя до объекта, по которому он кликает, постройте кластерную модель, которая разделяет рубрики/сферы на группы, сходные по участвующим в кластеризации переменным.  \n",
        "\n",
        "Приложение:\n",
        "1. Файл данных:  https://d3c33hcgiwev3.cloudfront.net/_6c939ae474f29a209ab5e3901864d38a_Data_Projects.csv\n",
        "2. Описание переменных: https://d3c33hcgiwev3.cloudfront.net/_29dfde6117dcd5724b7d2cd4f80cd5a6_Data_description.pdf"
      ]
    },
    {
      "cell_type": "code",
      "execution_count": null,
      "id": "5fc84b7e",
      "metadata": {
        "id": "5fc84b7e"
      },
      "outputs": [],
      "source": [
        "import numpy as np # линейная алгебра\n",
        "import pandas as pd # обработка данных, CSV afqk I/O (например pd.read_csv)\n",
        "import matplotlib.pyplot as plt\n",
        "import sklearn"
      ]
    },
    {
      "cell_type": "code",
      "execution_count": null,
      "id": "b3d3bf4e",
      "metadata": {
        "scrolled": true,
        "id": "b3d3bf4e",
        "outputId": "b74f76dc-07fc-472c-cfe4-f532dea73cb3"
      },
      "outputs": [
        {
          "data": {
            "text/html": [
              "<div>\n",
              "<style scoped>\n",
              "    .dataframe tbody tr th:only-of-type {\n",
              "        vertical-align: middle;\n",
              "    }\n",
              "\n",
              "    .dataframe tbody tr th {\n",
              "        vertical-align: top;\n",
              "    }\n",
              "\n",
              "    .dataframe thead th {\n",
              "        text-align: right;\n",
              "    }\n",
              "</style>\n",
              "<table border=\"1\" class=\"dataframe\">\n",
              "  <thead>\n",
              "    <tr style=\"text-align: right;\">\n",
              "      <th></th>\n",
              "      <th>AddressCount</th>\n",
              "      <th>CallsCount</th>\n",
              "      <th>ClicksCount</th>\n",
              "      <th>FirmsCount</th>\n",
              "      <th>GeoPart</th>\n",
              "      <th>MobilePart</th>\n",
              "      <th>UsersCount</th>\n",
              "      <th>Distance</th>\n",
              "      <th>IsGeo</th>\n",
              "    </tr>\n",
              "  </thead>\n",
              "  <tbody>\n",
              "    <tr>\n",
              "      <th>0</th>\n",
              "      <td>156</td>\n",
              "      <td>20</td>\n",
              "      <td>1903</td>\n",
              "      <td>176</td>\n",
              "      <td>0.416104</td>\n",
              "      <td>0.535762</td>\n",
              "      <td>1125</td>\n",
              "      <td>749.966084</td>\n",
              "      <td>1</td>\n",
              "    </tr>\n",
              "    <tr>\n",
              "      <th>1</th>\n",
              "      <td>17</td>\n",
              "      <td>37</td>\n",
              "      <td>258</td>\n",
              "      <td>20</td>\n",
              "      <td>0.211679</td>\n",
              "      <td>0.430657</td>\n",
              "      <td>157</td>\n",
              "      <td>2289.032424</td>\n",
              "      <td>0</td>\n",
              "    </tr>\n",
              "    <tr>\n",
              "      <th>2</th>\n",
              "      <td>78</td>\n",
              "      <td>56</td>\n",
              "      <td>1956</td>\n",
              "      <td>185</td>\n",
              "      <td>0.349475</td>\n",
              "      <td>0.476594</td>\n",
              "      <td>1195</td>\n",
              "      <td>1423.376512</td>\n",
              "      <td>1</td>\n",
              "    </tr>\n",
              "    <tr>\n",
              "      <th>3</th>\n",
              "      <td>14</td>\n",
              "      <td>70</td>\n",
              "      <td>378</td>\n",
              "      <td>19</td>\n",
              "      <td>0.318718</td>\n",
              "      <td>0.463744</td>\n",
              "      <td>206</td>\n",
              "      <td>3396.566089</td>\n",
              "      <td>0</td>\n",
              "    </tr>\n",
              "    <tr>\n",
              "      <th>4</th>\n",
              "      <td>111</td>\n",
              "      <td>90</td>\n",
              "      <td>4089</td>\n",
              "      <td>90</td>\n",
              "      <td>0.556175</td>\n",
              "      <td>0.490573</td>\n",
              "      <td>2934</td>\n",
              "      <td>1576.514154</td>\n",
              "      <td>1</td>\n",
              "    </tr>\n",
              "    <tr>\n",
              "      <th>5</th>\n",
              "      <td>53</td>\n",
              "      <td>96</td>\n",
              "      <td>1669</td>\n",
              "      <td>162</td>\n",
              "      <td>0.398978</td>\n",
              "      <td>0.421737</td>\n",
              "      <td>991</td>\n",
              "      <td>2337.603777</td>\n",
              "      <td>0</td>\n",
              "    </tr>\n",
              "    <tr>\n",
              "      <th>6</th>\n",
              "      <td>18</td>\n",
              "      <td>137</td>\n",
              "      <td>373</td>\n",
              "      <td>26</td>\n",
              "      <td>0.407108</td>\n",
              "      <td>0.389338</td>\n",
              "      <td>180</td>\n",
              "      <td>2780.961789</td>\n",
              "      <td>0</td>\n",
              "    </tr>\n",
              "    <tr>\n",
              "      <th>7</th>\n",
              "      <td>9</td>\n",
              "      <td>150</td>\n",
              "      <td>563</td>\n",
              "      <td>15</td>\n",
              "      <td>0.187886</td>\n",
              "      <td>0.175525</td>\n",
              "      <td>265</td>\n",
              "      <td>5206.838454</td>\n",
              "      <td>0</td>\n",
              "    </tr>\n",
              "    <tr>\n",
              "      <th>8</th>\n",
              "      <td>56</td>\n",
              "      <td>153</td>\n",
              "      <td>1366</td>\n",
              "      <td>56</td>\n",
              "      <td>0.335469</td>\n",
              "      <td>0.498856</td>\n",
              "      <td>613</td>\n",
              "      <td>2704.490401</td>\n",
              "      <td>0</td>\n",
              "    </tr>\n",
              "    <tr>\n",
              "      <th>9</th>\n",
              "      <td>371</td>\n",
              "      <td>176</td>\n",
              "      <td>5913</td>\n",
              "      <td>31</td>\n",
              "      <td>0.288146</td>\n",
              "      <td>0.608774</td>\n",
              "      <td>3981</td>\n",
              "      <td>4333.989691</td>\n",
              "      <td>0</td>\n",
              "    </tr>\n",
              "  </tbody>\n",
              "</table>\n",
              "</div>"
            ],
            "text/plain": [
              "   AddressCount  CallsCount  ClicksCount  FirmsCount   GeoPart  MobilePart  \\\n",
              "0           156          20         1903         176  0.416104    0.535762   \n",
              "1            17          37          258          20  0.211679    0.430657   \n",
              "2            78          56         1956         185  0.349475    0.476594   \n",
              "3            14          70          378          19  0.318718    0.463744   \n",
              "4           111          90         4089          90  0.556175    0.490573   \n",
              "5            53          96         1669         162  0.398978    0.421737   \n",
              "6            18         137          373          26  0.407108    0.389338   \n",
              "7             9         150          563          15  0.187886    0.175525   \n",
              "8            56         153         1366          56  0.335469    0.498856   \n",
              "9           371         176         5913          31  0.288146    0.608774   \n",
              "\n",
              "   UsersCount     Distance  IsGeo  \n",
              "0        1125   749.966084      1  \n",
              "1         157  2289.032424      0  \n",
              "2        1195  1423.376512      1  \n",
              "3         206  3396.566089      0  \n",
              "4        2934  1576.514154      1  \n",
              "5         991  2337.603777      0  \n",
              "6         180  2780.961789      0  \n",
              "7         265  5206.838454      0  \n",
              "8         613  2704.490401      0  \n",
              "9        3981  4333.989691      0  "
            ]
          },
          "execution_count": 78,
          "metadata": {},
          "output_type": "execute_result"
        }
      ],
      "source": [
        "data = pd.read_csv('D:\\_6c939ae474f29a209ab5e3901864d38a_Data_Projects.csv', sep=';', decimal=',') # считываем датасет\n",
        "data.head(10) # выводим первые 10 значенией\n"
      ]
    },
    {
      "cell_type": "code",
      "execution_count": null,
      "id": "5b0bba2d",
      "metadata": {
        "id": "5b0bba2d",
        "outputId": "3592a284-8ef6-4eb3-dc07-1abd8a3dd994"
      },
      "outputs": [
        {
          "data": {
            "text/plain": [
              "0      749.966084\n",
              "1     2289.032424\n",
              "2     1423.376512\n",
              "3     3396.566089\n",
              "4     1576.514154\n",
              "         ...     \n",
              "74    1908.108110\n",
              "75    2642.200165\n",
              "76    2278.162917\n",
              "77     989.412139\n",
              "78     918.713972\n",
              "Name: Distance, Length: 79, dtype: float64"
            ]
          },
          "execution_count": 56,
          "metadata": {},
          "output_type": "execute_result"
        }
      ],
      "source": [
        "# Переводим стороковые значения в числовые \n",
        "pd.to_numeric(data['AddressCount'])\n",
        "pd.to_numeric(data['CallsCount'])\n",
        "pd.to_numeric(data['ClicksCount'])\n",
        "pd.to_numeric(data['FirmsCount'])\n",
        "pd.to_numeric(data['GeoPart'])\n",
        "pd.to_numeric(data['MobilePart'])\n",
        "pd.to_numeric(data['UsersCount'])\n",
        "pd.to_numeric(data['Distance'])"
      ]
    },
    {
      "cell_type": "code",
      "execution_count": null,
      "id": "96a04456",
      "metadata": {
        "scrolled": true,
        "id": "96a04456",
        "outputId": "9c281daa-ca0b-48ba-dca7-98182a5e8fb2"
      },
      "outputs": [
        {
          "data": {
            "text/html": [
              "<div>\n",
              "<style scoped>\n",
              "    .dataframe tbody tr th:only-of-type {\n",
              "        vertical-align: middle;\n",
              "    }\n",
              "\n",
              "    .dataframe tbody tr th {\n",
              "        vertical-align: top;\n",
              "    }\n",
              "\n",
              "    .dataframe thead th {\n",
              "        text-align: right;\n",
              "    }\n",
              "</style>\n",
              "<table border=\"1\" class=\"dataframe\">\n",
              "  <thead>\n",
              "    <tr style=\"text-align: right;\">\n",
              "      <th></th>\n",
              "      <th>AddressCount</th>\n",
              "      <th>CallsCount</th>\n",
              "      <th>ClicksCount</th>\n",
              "      <th>FirmsCount</th>\n",
              "      <th>GeoPart</th>\n",
              "      <th>MobilePart</th>\n",
              "      <th>UsersCount</th>\n",
              "      <th>Distance</th>\n",
              "      <th>IsGeo</th>\n",
              "    </tr>\n",
              "  </thead>\n",
              "  <tbody>\n",
              "    <tr>\n",
              "      <th>0</th>\n",
              "      <td>156</td>\n",
              "      <td>20</td>\n",
              "      <td>1903</td>\n",
              "      <td>176</td>\n",
              "      <td>0.416104</td>\n",
              "      <td>0.535762</td>\n",
              "      <td>1125</td>\n",
              "      <td>749.966084</td>\n",
              "      <td>1</td>\n",
              "    </tr>\n",
              "    <tr>\n",
              "      <th>1</th>\n",
              "      <td>17</td>\n",
              "      <td>37</td>\n",
              "      <td>258</td>\n",
              "      <td>20</td>\n",
              "      <td>0.211679</td>\n",
              "      <td>0.430657</td>\n",
              "      <td>157</td>\n",
              "      <td>2289.032424</td>\n",
              "      <td>0</td>\n",
              "    </tr>\n",
              "    <tr>\n",
              "      <th>2</th>\n",
              "      <td>78</td>\n",
              "      <td>56</td>\n",
              "      <td>1956</td>\n",
              "      <td>185</td>\n",
              "      <td>0.349475</td>\n",
              "      <td>0.476594</td>\n",
              "      <td>1195</td>\n",
              "      <td>1423.376512</td>\n",
              "      <td>1</td>\n",
              "    </tr>\n",
              "    <tr>\n",
              "      <th>3</th>\n",
              "      <td>14</td>\n",
              "      <td>70</td>\n",
              "      <td>378</td>\n",
              "      <td>19</td>\n",
              "      <td>0.318718</td>\n",
              "      <td>0.463744</td>\n",
              "      <td>206</td>\n",
              "      <td>3396.566089</td>\n",
              "      <td>0</td>\n",
              "    </tr>\n",
              "    <tr>\n",
              "      <th>4</th>\n",
              "      <td>111</td>\n",
              "      <td>90</td>\n",
              "      <td>4089</td>\n",
              "      <td>90</td>\n",
              "      <td>0.556175</td>\n",
              "      <td>0.490573</td>\n",
              "      <td>2934</td>\n",
              "      <td>1576.514154</td>\n",
              "      <td>1</td>\n",
              "    </tr>\n",
              "    <tr>\n",
              "      <th>5</th>\n",
              "      <td>53</td>\n",
              "      <td>96</td>\n",
              "      <td>1669</td>\n",
              "      <td>162</td>\n",
              "      <td>0.398978</td>\n",
              "      <td>0.421737</td>\n",
              "      <td>991</td>\n",
              "      <td>2337.603777</td>\n",
              "      <td>0</td>\n",
              "    </tr>\n",
              "    <tr>\n",
              "      <th>6</th>\n",
              "      <td>18</td>\n",
              "      <td>137</td>\n",
              "      <td>373</td>\n",
              "      <td>26</td>\n",
              "      <td>0.407108</td>\n",
              "      <td>0.389338</td>\n",
              "      <td>180</td>\n",
              "      <td>2780.961789</td>\n",
              "      <td>0</td>\n",
              "    </tr>\n",
              "    <tr>\n",
              "      <th>7</th>\n",
              "      <td>9</td>\n",
              "      <td>150</td>\n",
              "      <td>563</td>\n",
              "      <td>15</td>\n",
              "      <td>0.187886</td>\n",
              "      <td>0.175525</td>\n",
              "      <td>265</td>\n",
              "      <td>5206.838454</td>\n",
              "      <td>0</td>\n",
              "    </tr>\n",
              "    <tr>\n",
              "      <th>8</th>\n",
              "      <td>56</td>\n",
              "      <td>153</td>\n",
              "      <td>1366</td>\n",
              "      <td>56</td>\n",
              "      <td>0.335469</td>\n",
              "      <td>0.498856</td>\n",
              "      <td>613</td>\n",
              "      <td>2704.490401</td>\n",
              "      <td>0</td>\n",
              "    </tr>\n",
              "    <tr>\n",
              "      <th>9</th>\n",
              "      <td>371</td>\n",
              "      <td>176</td>\n",
              "      <td>5913</td>\n",
              "      <td>31</td>\n",
              "      <td>0.288146</td>\n",
              "      <td>0.608774</td>\n",
              "      <td>3981</td>\n",
              "      <td>4333.989691</td>\n",
              "      <td>0</td>\n",
              "    </tr>\n",
              "    <tr>\n",
              "      <th>10</th>\n",
              "      <td>9552</td>\n",
              "      <td>207</td>\n",
              "      <td>101558</td>\n",
              "      <td>1473</td>\n",
              "      <td>0.383507</td>\n",
              "      <td>0.705315</td>\n",
              "      <td>54098</td>\n",
              "      <td>813.439315</td>\n",
              "      <td>1</td>\n",
              "    </tr>\n",
              "    <tr>\n",
              "      <th>11</th>\n",
              "      <td>42</td>\n",
              "      <td>222</td>\n",
              "      <td>1154</td>\n",
              "      <td>64</td>\n",
              "      <td>0.223269</td>\n",
              "      <td>0.139612</td>\n",
              "      <td>410</td>\n",
              "      <td>4511.632303</td>\n",
              "      <td>0</td>\n",
              "    </tr>\n",
              "    <tr>\n",
              "      <th>12</th>\n",
              "      <td>84</td>\n",
              "      <td>228</td>\n",
              "      <td>1031</td>\n",
              "      <td>39</td>\n",
              "      <td>0.310968</td>\n",
              "      <td>0.237456</td>\n",
              "      <td>578</td>\n",
              "      <td>6272.751840</td>\n",
              "      <td>0</td>\n",
              "    </tr>\n",
              "    <tr>\n",
              "      <th>13</th>\n",
              "      <td>48</td>\n",
              "      <td>237</td>\n",
              "      <td>1307</td>\n",
              "      <td>14</td>\n",
              "      <td>0.203375</td>\n",
              "      <td>0.669183</td>\n",
              "      <td>596</td>\n",
              "      <td>3969.150362</td>\n",
              "      <td>1</td>\n",
              "    </tr>\n",
              "    <tr>\n",
              "      <th>14</th>\n",
              "      <td>30</td>\n",
              "      <td>256</td>\n",
              "      <td>1139</td>\n",
              "      <td>114</td>\n",
              "      <td>0.318486</td>\n",
              "      <td>0.231626</td>\n",
              "      <td>550</td>\n",
              "      <td>4149.002902</td>\n",
              "      <td>0</td>\n",
              "    </tr>\n",
              "    <tr>\n",
              "      <th>15</th>\n",
              "      <td>70</td>\n",
              "      <td>270</td>\n",
              "      <td>976</td>\n",
              "      <td>132</td>\n",
              "      <td>0.246795</td>\n",
              "      <td>0.133974</td>\n",
              "      <td>537</td>\n",
              "      <td>4522.585897</td>\n",
              "      <td>0</td>\n",
              "    </tr>\n",
              "    <tr>\n",
              "      <th>16</th>\n",
              "      <td>73</td>\n",
              "      <td>278</td>\n",
              "      <td>2805</td>\n",
              "      <td>42</td>\n",
              "      <td>0.322342</td>\n",
              "      <td>0.440951</td>\n",
              "      <td>1196</td>\n",
              "      <td>2775.018152</td>\n",
              "      <td>0</td>\n",
              "    </tr>\n",
              "    <tr>\n",
              "      <th>17</th>\n",
              "      <td>258</td>\n",
              "      <td>310</td>\n",
              "      <td>3970</td>\n",
              "      <td>245</td>\n",
              "      <td>0.313795</td>\n",
              "      <td>0.458652</td>\n",
              "      <td>2344</td>\n",
              "      <td>893.981377</td>\n",
              "      <td>1</td>\n",
              "    </tr>\n",
              "    <tr>\n",
              "      <th>18</th>\n",
              "      <td>61</td>\n",
              "      <td>319</td>\n",
              "      <td>1316</td>\n",
              "      <td>168</td>\n",
              "      <td>0.367380</td>\n",
              "      <td>0.343316</td>\n",
              "      <td>558</td>\n",
              "      <td>1033.112765</td>\n",
              "      <td>0</td>\n",
              "    </tr>\n",
              "    <tr>\n",
              "      <th>19</th>\n",
              "      <td>66</td>\n",
              "      <td>344</td>\n",
              "      <td>1478</td>\n",
              "      <td>35</td>\n",
              "      <td>0.092917</td>\n",
              "      <td>0.090000</td>\n",
              "      <td>500</td>\n",
              "      <td>5528.065546</td>\n",
              "      <td>0</td>\n",
              "    </tr>\n",
              "  </tbody>\n",
              "</table>\n",
              "</div>"
            ],
            "text/plain": [
              "    AddressCount  CallsCount  ClicksCount  FirmsCount   GeoPart  MobilePart  \\\n",
              "0            156          20         1903         176  0.416104    0.535762   \n",
              "1             17          37          258          20  0.211679    0.430657   \n",
              "2             78          56         1956         185  0.349475    0.476594   \n",
              "3             14          70          378          19  0.318718    0.463744   \n",
              "4            111          90         4089          90  0.556175    0.490573   \n",
              "5             53          96         1669         162  0.398978    0.421737   \n",
              "6             18         137          373          26  0.407108    0.389338   \n",
              "7              9         150          563          15  0.187886    0.175525   \n",
              "8             56         153         1366          56  0.335469    0.498856   \n",
              "9            371         176         5913          31  0.288146    0.608774   \n",
              "10          9552         207       101558        1473  0.383507    0.705315   \n",
              "11            42         222         1154          64  0.223269    0.139612   \n",
              "12            84         228         1031          39  0.310968    0.237456   \n",
              "13            48         237         1307          14  0.203375    0.669183   \n",
              "14            30         256         1139         114  0.318486    0.231626   \n",
              "15            70         270          976         132  0.246795    0.133974   \n",
              "16            73         278         2805          42  0.322342    0.440951   \n",
              "17           258         310         3970         245  0.313795    0.458652   \n",
              "18            61         319         1316         168  0.367380    0.343316   \n",
              "19            66         344         1478          35  0.092917    0.090000   \n",
              "\n",
              "    UsersCount     Distance  IsGeo  \n",
              "0         1125   749.966084      1  \n",
              "1          157  2289.032424      0  \n",
              "2         1195  1423.376512      1  \n",
              "3          206  3396.566089      0  \n",
              "4         2934  1576.514154      1  \n",
              "5          991  2337.603777      0  \n",
              "6          180  2780.961789      0  \n",
              "7          265  5206.838454      0  \n",
              "8          613  2704.490401      0  \n",
              "9         3981  4333.989691      0  \n",
              "10       54098   813.439315      1  \n",
              "11         410  4511.632303      0  \n",
              "12         578  6272.751840      0  \n",
              "13         596  3969.150362      1  \n",
              "14         550  4149.002902      0  \n",
              "15         537  4522.585897      0  \n",
              "16        1196  2775.018152      0  \n",
              "17        2344   893.981377      1  \n",
              "18         558  1033.112765      0  \n",
              "19         500  5528.065546      0  "
            ]
          },
          "execution_count": 57,
          "metadata": {},
          "output_type": "execute_result"
        }
      ],
      "source": [
        "data.head(20) # выводим первые 20 значенией"
      ]
    },
    {
      "cell_type": "code",
      "execution_count": null,
      "id": "565de477",
      "metadata": {
        "scrolled": false,
        "id": "565de477",
        "outputId": "1dc138df-718b-49e0-a59e-8af616fc8e44"
      },
      "outputs": [
        {
          "name": "stdout",
          "output_type": "stream",
          "text": [
            "<class 'pandas.core.frame.DataFrame'>\n",
            "RangeIndex: 79 entries, 0 to 78\n",
            "Data columns (total 9 columns):\n",
            " #   Column        Non-Null Count  Dtype  \n",
            "---  ------        --------------  -----  \n",
            " 0   AddressCount  79 non-null     int64  \n",
            " 1   CallsCount    79 non-null     int64  \n",
            " 2   ClicksCount   79 non-null     int64  \n",
            " 3   FirmsCount    79 non-null     int64  \n",
            " 4   GeoPart       79 non-null     float64\n",
            " 5   MobilePart    79 non-null     float64\n",
            " 6   UsersCount    79 non-null     int64  \n",
            " 7   Distance      79 non-null     float64\n",
            " 8   IsGeo         79 non-null     int64  \n",
            "dtypes: float64(3), int64(6)\n",
            "memory usage: 5.7 KB\n"
          ]
        }
      ],
      "source": [
        "data.info() # получаем информацию о датасете и его значениях"
      ]
    },
    {
      "cell_type": "code",
      "execution_count": null,
      "id": "95872121",
      "metadata": {
        "scrolled": false,
        "id": "95872121",
        "outputId": "676b4826-f312-4483-fa9e-22d0718b3d45"
      },
      "outputs": [
        {
          "data": {
            "text/html": [
              "<div>\n",
              "<style scoped>\n",
              "    .dataframe tbody tr th:only-of-type {\n",
              "        vertical-align: middle;\n",
              "    }\n",
              "\n",
              "    .dataframe tbody tr th {\n",
              "        vertical-align: top;\n",
              "    }\n",
              "\n",
              "    .dataframe thead th {\n",
              "        text-align: right;\n",
              "    }\n",
              "</style>\n",
              "<table border=\"1\" class=\"dataframe\">\n",
              "  <thead>\n",
              "    <tr style=\"text-align: right;\">\n",
              "      <th></th>\n",
              "      <th>AddressCount</th>\n",
              "      <th>CallsCount</th>\n",
              "      <th>ClicksCount</th>\n",
              "      <th>FirmsCount</th>\n",
              "      <th>GeoPart</th>\n",
              "      <th>MobilePart</th>\n",
              "      <th>UsersCount</th>\n",
              "      <th>Distance</th>\n",
              "      <th>IsGeo</th>\n",
              "    </tr>\n",
              "  </thead>\n",
              "  <tbody>\n",
              "    <tr>\n",
              "      <th>count</th>\n",
              "      <td>79.000000</td>\n",
              "      <td>79.000000</td>\n",
              "      <td>79.000000</td>\n",
              "      <td>79.000000</td>\n",
              "      <td>79.000000</td>\n",
              "      <td>79.000000</td>\n",
              "      <td>79.000000</td>\n",
              "      <td>79.000000</td>\n",
              "      <td>79.000000</td>\n",
              "    </tr>\n",
              "    <tr>\n",
              "      <th>mean</th>\n",
              "      <td>1048.037975</td>\n",
              "      <td>3648.683544</td>\n",
              "      <td>21826.012658</td>\n",
              "      <td>305.088608</td>\n",
              "      <td>0.342645</td>\n",
              "      <td>0.445746</td>\n",
              "      <td>9753.126582</td>\n",
              "      <td>2669.426352</td>\n",
              "      <td>0.354430</td>\n",
              "    </tr>\n",
              "    <tr>\n",
              "      <th>std</th>\n",
              "      <td>1642.066119</td>\n",
              "      <td>8124.105402</td>\n",
              "      <td>32474.959513</td>\n",
              "      <td>382.052090</td>\n",
              "      <td>0.103608</td>\n",
              "      <td>0.146131</td>\n",
              "      <td>13927.295721</td>\n",
              "      <td>1427.785304</td>\n",
              "      <td>0.481397</td>\n",
              "    </tr>\n",
              "    <tr>\n",
              "      <th>min</th>\n",
              "      <td>9.000000</td>\n",
              "      <td>20.000000</td>\n",
              "      <td>258.000000</td>\n",
              "      <td>14.000000</td>\n",
              "      <td>0.092917</td>\n",
              "      <td>0.090000</td>\n",
              "      <td>157.000000</td>\n",
              "      <td>714.787236</td>\n",
              "      <td>0.000000</td>\n",
              "    </tr>\n",
              "    <tr>\n",
              "      <th>25%</th>\n",
              "      <td>81.000000</td>\n",
              "      <td>346.000000</td>\n",
              "      <td>2055.000000</td>\n",
              "      <td>71.500000</td>\n",
              "      <td>0.281527</td>\n",
              "      <td>0.357293</td>\n",
              "      <td>1167.500000</td>\n",
              "      <td>1562.103740</td>\n",
              "      <td>0.000000</td>\n",
              "    </tr>\n",
              "    <tr>\n",
              "      <th>50%</th>\n",
              "      <td>371.000000</td>\n",
              "      <td>931.000000</td>\n",
              "      <td>6921.000000</td>\n",
              "      <td>185.000000</td>\n",
              "      <td>0.322342</td>\n",
              "      <td>0.463744</td>\n",
              "      <td>2934.000000</td>\n",
              "      <td>2586.503274</td>\n",
              "      <td>0.000000</td>\n",
              "    </tr>\n",
              "    <tr>\n",
              "      <th>75%</th>\n",
              "      <td>1195.000000</td>\n",
              "      <td>2457.500000</td>\n",
              "      <td>30625.500000</td>\n",
              "      <td>402.500000</td>\n",
              "      <td>0.416907</td>\n",
              "      <td>0.551654</td>\n",
              "      <td>13265.000000</td>\n",
              "      <td>3575.692331</td>\n",
              "      <td>1.000000</td>\n",
              "    </tr>\n",
              "    <tr>\n",
              "      <th>max</th>\n",
              "      <td>9552.000000</td>\n",
              "      <td>48497.000000</td>\n",
              "      <td>167155.000000</td>\n",
              "      <td>2379.000000</td>\n",
              "      <td>0.556175</td>\n",
              "      <td>0.737288</td>\n",
              "      <td>61127.000000</td>\n",
              "      <td>6292.207311</td>\n",
              "      <td>1.000000</td>\n",
              "    </tr>\n",
              "  </tbody>\n",
              "</table>\n",
              "</div>"
            ],
            "text/plain": [
              "       AddressCount    CallsCount    ClicksCount   FirmsCount    GeoPart  \\\n",
              "count     79.000000     79.000000      79.000000    79.000000  79.000000   \n",
              "mean    1048.037975   3648.683544   21826.012658   305.088608   0.342645   \n",
              "std     1642.066119   8124.105402   32474.959513   382.052090   0.103608   \n",
              "min        9.000000     20.000000     258.000000    14.000000   0.092917   \n",
              "25%       81.000000    346.000000    2055.000000    71.500000   0.281527   \n",
              "50%      371.000000    931.000000    6921.000000   185.000000   0.322342   \n",
              "75%     1195.000000   2457.500000   30625.500000   402.500000   0.416907   \n",
              "max     9552.000000  48497.000000  167155.000000  2379.000000   0.556175   \n",
              "\n",
              "       MobilePart    UsersCount     Distance      IsGeo  \n",
              "count   79.000000     79.000000    79.000000  79.000000  \n",
              "mean     0.445746   9753.126582  2669.426352   0.354430  \n",
              "std      0.146131  13927.295721  1427.785304   0.481397  \n",
              "min      0.090000    157.000000   714.787236   0.000000  \n",
              "25%      0.357293   1167.500000  1562.103740   0.000000  \n",
              "50%      0.463744   2934.000000  2586.503274   0.000000  \n",
              "75%      0.551654  13265.000000  3575.692331   1.000000  \n",
              "max      0.737288  61127.000000  6292.207311   1.000000  "
            ]
          },
          "execution_count": 58,
          "metadata": {},
          "output_type": "execute_result"
        }
      ],
      "source": [
        "data.describe() # выволим информацию о основных статических показателях датасета"
      ]
    },
    {
      "cell_type": "markdown",
      "id": "0fc6d2db",
      "metadata": {
        "id": "0fc6d2db"
      },
      "source": [
        "Для аналиаза был выбран количественный признак \"Доля трафика с карты\" и \"Доля трафика с мобильных продуктов\". Для его анализа сначала строим график. На графике снизу видно, что распределение признака имеет вид ассиметричного правостороннего распределения."
      ]
    },
    {
      "cell_type": "code",
      "execution_count": null,
      "id": "4b2a70b6",
      "metadata": {
        "id": "4b2a70b6",
        "outputId": "ffc911bf-12c8-462c-aad9-9afc071dbca3"
      },
      "outputs": [
        {
          "data": {
            "text/plain": [
              "<AxesSubplot:>"
            ]
          },
          "execution_count": 59,
          "metadata": {},
          "output_type": "execute_result"
        },
        {
          "data": {
            "image/png": "[encoded data removed]",
            "text/plain": [
              "<Figure size 432x288 with 1 Axes>"
            ]
          },
          "metadata": {
            "needs_background": "light"
          },
          "output_type": "display_data"
        }
      ],
      "source": [
        "data.plot(y=[\"GeoPart\", \"MobilePart\"])"
      ]
    },
    {
      "cell_type": "markdown",
      "id": "c88ad27b",
      "metadata": {
        "id": "c88ad27b"
      },
      "source": [
        "Судя по построенному графику можно сделать вывод, что распределение признака двух количественных признаков\n",
        "согласуется с нормальным законом распредления. "
      ]
    },
    {
      "cell_type": "markdown",
      "id": "660ac5ac",
      "metadata": {
        "id": "660ac5ac"
      },
      "source": [
        "Для опредения наличия или отсутствия аномалий и выбросов построим графики  типа \"ящик с усами\" и диаграмму рассеивания. \n"
      ]
    },
    {
      "cell_type": "code",
      "execution_count": null,
      "id": "f4215003",
      "metadata": {
        "id": "f4215003",
        "outputId": "ea3c1383-d4ce-44d4-820b-e7d4245d959f"
      },
      "outputs": [
        {
          "data": {
            "image/png": "[encoded data removed]",
            "text/plain": [
              "<Figure size 432x288 with 1 Axes>"
            ]
          },
          "metadata": {
            "needs_background": "light"
          },
          "output_type": "display_data"
        },
        {
          "data": {
            "image/png": "[encoded data removed]",
            "text/plain": [
              "<Figure size 432x288 with 1 Axes>"
            ]
          },
          "metadata": {
            "needs_background": "light"
          },
          "output_type": "display_data"
        }
      ],
      "source": [
        "boxplot = data.boxplot(column=['GeoPart'])\n",
        "plt.show()\n",
        "\n",
        "boxplot = data.boxplot(column=['MobilePart'])\n",
        "plt.show()\n"
      ]
    },
    {
      "cell_type": "markdown",
      "id": "25bde82c",
      "metadata": {
        "id": "25bde82c"
      },
      "source": [
        "## Проверка корреляции данных\n",
        "Проверим корреляцию между количеством пользователей и медианном расстоянии от пользователя до объекта, по которому он кликает. Для этого будем использовать график типа \"Диаграмма рассеивания\".\n"
      ]
    },
    {
      "cell_type": "code",
      "execution_count": null,
      "id": "17efe563",
      "metadata": {
        "id": "17efe563",
        "outputId": "ea78191f-12aa-4f85-8b79-b9cbc51e8ae0"
      },
      "outputs": [
        {
          "data": {
            "text/plain": [
              "<AxesSubplot:xlabel='Distance', ylabel='GeoPart'>"
            ]
          },
          "execution_count": 80,
          "metadata": {},
          "output_type": "execute_result"
        },
        {
          "data": {
            "image/png": "[encoded data removed]",
            "text/plain": [
              "<Figure size 432x288 with 1 Axes>"
            ]
          },
          "metadata": {
            "needs_background": "light"
          },
          "output_type": "display_data"
        },
        {
          "data": {
            "image/png": "[encoded data removed]",
            "text/plain": [
              "<Figure size 432x288 with 1 Axes>"
            ]
          },
          "metadata": {
            "needs_background": "light"
          },
          "output_type": "display_data"
        }
      ],
      "source": [
        "data.plot(x=\"Distance\", y=\"MobilePart\", kind=\"scatter\")\n",
        "data.plot(x=\"Distance\", y=\"GeoPart\", kind=\"scatter\")"
      ]
    },
    {
      "cell_type": "raw",
      "id": "81c807a5",
      "metadata": {
        "id": "81c807a5"
      },
      "source": [
        "Беглый взгляд на графики замечает, что нет значительной корреляции между оличеством пользователей и медианном расстоянии от пользователя до объекта"
      ]
    },
    {
      "cell_type": "markdown",
      "id": "69fedd84",
      "metadata": {
        "id": "69fedd84"
      },
      "source": [
        "# Кластеризация данных"
      ]
    },
    {
      "cell_type": "markdown",
      "id": "a88ef79b",
      "metadata": {
        "id": "a88ef79b"
      },
      "source": [
        "## Метод k-средних"
      ]
    },
    {
      "cell_type": "markdown",
      "id": "cee34a17",
      "metadata": {
        "id": "cee34a17"
      },
      "source": [
        "Наиболее популярным алгоритмом кластеризации данных является метод k-средних. Это итеративный алгоритм кластеризации, основанный на минимизации суммарных квадратичных отклонений точек кластеров от центроидов (средних координат) этих кластеров.\n",
        "\n",
        "Первоначально выбирается желаемое количество кластеров. Поскольку нам известно, что в нашем наборе данных есть 3 класса, установим параметр модели n_clusters равный трем.\n",
        "\n",
        "Теперь случайным образом из входных данных выбираются три элемента выборки, в соответствие которым ставятся три кластера, в каждый из которых теперь включено по одной точке, каждая при этом является центроидом этого кластера.\n",
        "\n",
        "Далее ищем ближайшего соседа текущего центроида. Добавляем точку к соответствующему кластеру и пересчитываем положение центроида с учетом координат новых точек.  Алгоритм заканчивает работу, когда координаты каждого центроида перестают меняться. Центроид каждого кластера в результате представляет собой набор значений признаков, описывающих усредненные параметры выделенных классов."
      ]
    },
    {
      "cell_type": "code",
      "execution_count": null,
      "id": "7a635cd1",
      "metadata": {
        "id": "7a635cd1",
        "outputId": "7c744fab-5d97-42c2-e274-0bf04b1c2696"
      },
      "outputs": [
        {
          "data": {
            "text/plain": [
              "(-15.0, 15.0)"
            ]
          },
          "execution_count": 75,
          "metadata": {},
          "output_type": "execute_result"
        },
        {
          "data": {
            "image/png": "[encoded data removed]",
            "text/plain": [
              "<Figure size 432x288 with 1 Axes>"
            ]
          },
          "metadata": {
            "needs_background": "light"
          },
          "output_type": "display_data"
        }
      ],
      "source": [
        "from sklearn.datasets import make_blobs\n",
        "data = sklearn.datasets.make_blobs(n_samples=200, n_features=2, centers=4, cluster_std=1.6, random_state=50)\n",
        "points = data[0] \n",
        "plt.scatter(data[0][:,0], data[0][:,1], c=data[1], cmap='viridis')\n",
        "plt.xlim(-15,15)\n",
        "plt.ylim(-15,15)"
      ]
    },
    {
      "cell_type": "markdown",
      "id": "37c099e5",
      "metadata": {
        "id": "37c099e5"
      },
      "source": [
        "## Иерархическая кластеризация"
      ]
    },
    {
      "cell_type": "code",
      "execution_count": null,
      "id": "114cd7af",
      "metadata": {
        "id": "114cd7af",
        "outputId": "1059f639-16a2-4bf8-c19c-bac395f59972"
      },
      "outputs": [
        {
          "data": {
            "image/png": "[encoded data removed]",
            "text/plain": [
              "<Figure size 720x504 with 1 Axes>"
            ]
          },
          "metadata": {
            "needs_background": "light"
          },
          "output_type": "display_data"
        }
      ],
      "source": [
        "import scipy.cluster.hierarchy as shc\n",
        "\n",
        "plt.figure(figsize=(10, 7))\n",
        "plt.title(\"Дендрограмма\")\n",
        "dend = shc.dendrogram(shc.linkage(data, method='ward'))"
      ]
    },
    {
      "cell_type": "markdown",
      "id": "53a9a6fb",
      "metadata": {
        "id": "53a9a6fb"
      },
      "source": [
        " ## Вывод:"
      ]
    },
    {
      "cell_type": "markdown",
      "id": "ec3dda81",
      "metadata": {
        "id": "ec3dda81"
      },
      "source": [
        "#### На основе полученных данных можно сделать вывод, что количество трафика зависит от рубрики, в которовой указана органищациия. Для увеличения трафика организации можно посоветовать:\n",
        "1. изменить или дополнительно указать другую более кликабельную рубрику, возможно даже несколько; \n",
        "2. завести сайт в интернете;\n",
        "3. разработать собстенное мобильное приложение. \n"
      ]
    },
    {
      "cell_type": "markdown",
      "id": "ce78290b",
      "metadata": {
        "id": "ce78290b"
      },
      "source": [
        "# Отчет составил: Наумов Михаил Андреевич"
      ]
    }
  ],
  "metadata": {
    "kernelspec": {
      "display_name": "Python 3",
      "language": "python",
      "name": "python3"
    },
    "language_info": {
      "codemirror_mode": {
        "name": "ipython",
        "version": 3
      },
      "file_extension": ".py",
      "mimetype": "text/x-python",
      "name": "python",
      "nbconvert_exporter": "python",
      "pygments_lexer": "ipython3",
      "version": "3.8.8"
    },
    "colab": {
      "name": "Кластерный анализ и межгрупповые сравнения.ipynb",
      "provenance": [],
      "include_colab_link": true
    }
  },
  "nbformat": 4,
  "nbformat_minor": 5
}