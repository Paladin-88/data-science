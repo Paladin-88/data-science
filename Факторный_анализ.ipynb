{
  "cells": [
    {
      "cell_type": "markdown",
      "metadata": {
        "id": "view-in-github",
        "colab_type": "text"
      },
      "source": [
        "<a href=\"https://colab.research.google.com/github/Paladin-88/data-science/blob/main/%D0%A4%D0%B0%D0%BA%D1%82%D0%BE%D1%80%D0%BD%D1%8B%D0%B9_%D0%B0%D0%BD%D0%B0%D0%BB%D0%B8%D0%B7.ipynb\" target=\"_parent\"><img src=\"https://colab.research.google.com/assets/colab-badge.svg\" alt=\"Open In Colab\"/></a>"
      ]
    },
    {
      "cell_type": "markdown",
      "id": "a2d12978",
      "metadata": {
        "id": "a2d12978"
      },
      "source": [
        "# Отчет составил: Наумов Михаил Андреевич"
      ]
    },
    {
      "cell_type": "raw",
      "id": "75286324",
      "metadata": {
        "id": "75286324"
      },
      "source": [
        "Прогнозирование исхода события (принадлежность рубрики к классу геозависимых или геонезависимых) на основе некоторых характеристик рубрики, которые нам известны.  \n",
        "\n",
        "Приложение:\n",
        "1. Файл данных: https://d3c33hcgiwev3.cloudfront.net/_6c939ae474f29a209ab5e3901864d38a_Data_Projects.csv\n",
        "2. Описание переменных:  https://d3c33hcgiwev3.cloudfront.net/_29dfde6117dcd5724b7d2cd4f80cd5a6_Data_description.pdf"
      ]
    },
    {
      "cell_type": "code",
      "execution_count": null,
      "id": "5fc84b7e",
      "metadata": {
        "id": "5fc84b7e"
      },
      "outputs": [],
      "source": [
        "import numpy as np # линейная алгебра\n",
        "import pandas as pd # обработка данных\n",
        "import matplotlib.pyplot as plt\n",
        "import factor_analyzer"
      ]
    },
    {
      "cell_type": "code",
      "execution_count": null,
      "id": "b3d3bf4e",
      "metadata": {
        "scrolled": true,
        "id": "b3d3bf4e",
        "outputId": "9b5e244b-795c-47dc-bd4d-909298eead7d"
      },
      "outputs": [
        {
          "data": {
            "text/html": [
              "<div>\n",
              "<style scoped>\n",
              "    .dataframe tbody tr th:only-of-type {\n",
              "        vertical-align: middle;\n",
              "    }\n",
              "\n",
              "    .dataframe tbody tr th {\n",
              "        vertical-align: top;\n",
              "    }\n",
              "\n",
              "    .dataframe thead th {\n",
              "        text-align: right;\n",
              "    }\n",
              "</style>\n",
              "<table border=\"1\" class=\"dataframe\">\n",
              "  <thead>\n",
              "    <tr style=\"text-align: right;\">\n",
              "      <th></th>\n",
              "      <th>AddressCount</th>\n",
              "      <th>CallsCount</th>\n",
              "      <th>ClicksCount</th>\n",
              "      <th>FirmsCount</th>\n",
              "      <th>GeoPart</th>\n",
              "      <th>MobilePart</th>\n",
              "      <th>UsersCount</th>\n",
              "      <th>Distance</th>\n",
              "      <th>IsGeo</th>\n",
              "    </tr>\n",
              "  </thead>\n",
              "  <tbody>\n",
              "    <tr>\n",
              "      <th>0</th>\n",
              "      <td>156</td>\n",
              "      <td>20</td>\n",
              "      <td>1903</td>\n",
              "      <td>176</td>\n",
              "      <td>0.416104</td>\n",
              "      <td>0.535762</td>\n",
              "      <td>1125</td>\n",
              "      <td>749.966084</td>\n",
              "      <td>1</td>\n",
              "    </tr>\n",
              "    <tr>\n",
              "      <th>1</th>\n",
              "      <td>17</td>\n",
              "      <td>37</td>\n",
              "      <td>258</td>\n",
              "      <td>20</td>\n",
              "      <td>0.211679</td>\n",
              "      <td>0.430657</td>\n",
              "      <td>157</td>\n",
              "      <td>2289.032424</td>\n",
              "      <td>0</td>\n",
              "    </tr>\n",
              "    <tr>\n",
              "      <th>2</th>\n",
              "      <td>78</td>\n",
              "      <td>56</td>\n",
              "      <td>1956</td>\n",
              "      <td>185</td>\n",
              "      <td>0.349475</td>\n",
              "      <td>0.476594</td>\n",
              "      <td>1195</td>\n",
              "      <td>1423.376512</td>\n",
              "      <td>1</td>\n",
              "    </tr>\n",
              "    <tr>\n",
              "      <th>3</th>\n",
              "      <td>14</td>\n",
              "      <td>70</td>\n",
              "      <td>378</td>\n",
              "      <td>19</td>\n",
              "      <td>0.318718</td>\n",
              "      <td>0.463744</td>\n",
              "      <td>206</td>\n",
              "      <td>3396.566089</td>\n",
              "      <td>0</td>\n",
              "    </tr>\n",
              "    <tr>\n",
              "      <th>4</th>\n",
              "      <td>111</td>\n",
              "      <td>90</td>\n",
              "      <td>4089</td>\n",
              "      <td>90</td>\n",
              "      <td>0.556175</td>\n",
              "      <td>0.490573</td>\n",
              "      <td>2934</td>\n",
              "      <td>1576.514154</td>\n",
              "      <td>1</td>\n",
              "    </tr>\n",
              "    <tr>\n",
              "      <th>5</th>\n",
              "      <td>53</td>\n",
              "      <td>96</td>\n",
              "      <td>1669</td>\n",
              "      <td>162</td>\n",
              "      <td>0.398978</td>\n",
              "      <td>0.421737</td>\n",
              "      <td>991</td>\n",
              "      <td>2337.603777</td>\n",
              "      <td>0</td>\n",
              "    </tr>\n",
              "    <tr>\n",
              "      <th>6</th>\n",
              "      <td>18</td>\n",
              "      <td>137</td>\n",
              "      <td>373</td>\n",
              "      <td>26</td>\n",
              "      <td>0.407108</td>\n",
              "      <td>0.389338</td>\n",
              "      <td>180</td>\n",
              "      <td>2780.961789</td>\n",
              "      <td>0</td>\n",
              "    </tr>\n",
              "    <tr>\n",
              "      <th>7</th>\n",
              "      <td>9</td>\n",
              "      <td>150</td>\n",
              "      <td>563</td>\n",
              "      <td>15</td>\n",
              "      <td>0.187886</td>\n",
              "      <td>0.175525</td>\n",
              "      <td>265</td>\n",
              "      <td>5206.838454</td>\n",
              "      <td>0</td>\n",
              "    </tr>\n",
              "    <tr>\n",
              "      <th>8</th>\n",
              "      <td>56</td>\n",
              "      <td>153</td>\n",
              "      <td>1366</td>\n",
              "      <td>56</td>\n",
              "      <td>0.335469</td>\n",
              "      <td>0.498856</td>\n",
              "      <td>613</td>\n",
              "      <td>2704.490401</td>\n",
              "      <td>0</td>\n",
              "    </tr>\n",
              "    <tr>\n",
              "      <th>9</th>\n",
              "      <td>371</td>\n",
              "      <td>176</td>\n",
              "      <td>5913</td>\n",
              "      <td>31</td>\n",
              "      <td>0.288146</td>\n",
              "      <td>0.608774</td>\n",
              "      <td>3981</td>\n",
              "      <td>4333.989691</td>\n",
              "      <td>0</td>\n",
              "    </tr>\n",
              "  </tbody>\n",
              "</table>\n",
              "</div>"
            ],
            "text/plain": [
              "   AddressCount  CallsCount  ClicksCount  FirmsCount   GeoPart  MobilePart  \\\n",
              "0           156          20         1903         176  0.416104    0.535762   \n",
              "1            17          37          258          20  0.211679    0.430657   \n",
              "2            78          56         1956         185  0.349475    0.476594   \n",
              "3            14          70          378          19  0.318718    0.463744   \n",
              "4           111          90         4089          90  0.556175    0.490573   \n",
              "5            53          96         1669         162  0.398978    0.421737   \n",
              "6            18         137          373          26  0.407108    0.389338   \n",
              "7             9         150          563          15  0.187886    0.175525   \n",
              "8            56         153         1366          56  0.335469    0.498856   \n",
              "9           371         176         5913          31  0.288146    0.608774   \n",
              "\n",
              "   UsersCount     Distance  IsGeo  \n",
              "0        1125   749.966084      1  \n",
              "1         157  2289.032424      0  \n",
              "2        1195  1423.376512      1  \n",
              "3         206  3396.566089      0  \n",
              "4        2934  1576.514154      1  \n",
              "5         991  2337.603777      0  \n",
              "6         180  2780.961789      0  \n",
              "7         265  5206.838454      0  \n",
              "8         613  2704.490401      0  \n",
              "9        3981  4333.989691      0  "
            ]
          },
          "execution_count": 52,
          "metadata": {},
          "output_type": "execute_result"
        }
      ],
      "source": [
        "data = pd.read_csv('D:\\_6c939ae474f29a209ab5e3901864d38a_Data_Projects.csv', sep=';', decimal=',') # считываем датасет\n",
        "data.head(10) # выводим первые 10 значенией"
      ]
    },
    {
      "cell_type": "code",
      "execution_count": null,
      "id": "5b0bba2d",
      "metadata": {
        "id": "5b0bba2d",
        "outputId": "404ac69d-1159-4e2d-f896-3bc49ab71e3b"
      },
      "outputs": [
        {
          "data": {
            "text/plain": [
              "0     0.416104\n",
              "1     0.211679\n",
              "2     0.349475\n",
              "3     0.318718\n",
              "4     0.556175\n",
              "        ...   \n",
              "74    0.364710\n",
              "75    0.415795\n",
              "76    0.308071\n",
              "77    0.427646\n",
              "78    0.431926\n",
              "Name: GeoPart, Length: 79, dtype: float64"
            ]
          },
          "execution_count": 53,
          "metadata": {},
          "output_type": "execute_result"
        }
      ],
      "source": [
        "# Переводим стороковые значения в числовые \n",
        "pd.to_numeric(data['AddressCount'])\n",
        "pd.to_numeric(data['CallsCount'])\n",
        "pd.to_numeric(data['ClicksCount'])\n",
        "pd.to_numeric(data['FirmsCount'])\n",
        "pd.to_numeric(data['MobilePart'])\n",
        "pd.to_numeric(data['UsersCount'])\n",
        "pd.to_numeric(data['Distance'])\n",
        "pd.to_numeric(data[\"GeoPart\"])"
      ]
    },
    {
      "cell_type": "code",
      "execution_count": null,
      "id": "96a04456",
      "metadata": {
        "scrolled": true,
        "id": "96a04456",
        "outputId": "21d472f7-9d45-4b2b-c075-e55ce390660d"
      },
      "outputs": [
        {
          "data": {
            "text/html": [
              "<div>\n",
              "<style scoped>\n",
              "    .dataframe tbody tr th:only-of-type {\n",
              "        vertical-align: middle;\n",
              "    }\n",
              "\n",
              "    .dataframe tbody tr th {\n",
              "        vertical-align: top;\n",
              "    }\n",
              "\n",
              "    .dataframe thead th {\n",
              "        text-align: right;\n",
              "    }\n",
              "</style>\n",
              "<table border=\"1\" class=\"dataframe\">\n",
              "  <thead>\n",
              "    <tr style=\"text-align: right;\">\n",
              "      <th></th>\n",
              "      <th>AddressCount</th>\n",
              "      <th>CallsCount</th>\n",
              "      <th>ClicksCount</th>\n",
              "      <th>FirmsCount</th>\n",
              "      <th>GeoPart</th>\n",
              "      <th>MobilePart</th>\n",
              "      <th>UsersCount</th>\n",
              "      <th>Distance</th>\n",
              "      <th>IsGeo</th>\n",
              "    </tr>\n",
              "  </thead>\n",
              "  <tbody>\n",
              "    <tr>\n",
              "      <th>0</th>\n",
              "      <td>156</td>\n",
              "      <td>20</td>\n",
              "      <td>1903</td>\n",
              "      <td>176</td>\n",
              "      <td>0.416104</td>\n",
              "      <td>0.535762</td>\n",
              "      <td>1125</td>\n",
              "      <td>749.966084</td>\n",
              "      <td>1</td>\n",
              "    </tr>\n",
              "    <tr>\n",
              "      <th>1</th>\n",
              "      <td>17</td>\n",
              "      <td>37</td>\n",
              "      <td>258</td>\n",
              "      <td>20</td>\n",
              "      <td>0.211679</td>\n",
              "      <td>0.430657</td>\n",
              "      <td>157</td>\n",
              "      <td>2289.032424</td>\n",
              "      <td>0</td>\n",
              "    </tr>\n",
              "    <tr>\n",
              "      <th>2</th>\n",
              "      <td>78</td>\n",
              "      <td>56</td>\n",
              "      <td>1956</td>\n",
              "      <td>185</td>\n",
              "      <td>0.349475</td>\n",
              "      <td>0.476594</td>\n",
              "      <td>1195</td>\n",
              "      <td>1423.376512</td>\n",
              "      <td>1</td>\n",
              "    </tr>\n",
              "    <tr>\n",
              "      <th>3</th>\n",
              "      <td>14</td>\n",
              "      <td>70</td>\n",
              "      <td>378</td>\n",
              "      <td>19</td>\n",
              "      <td>0.318718</td>\n",
              "      <td>0.463744</td>\n",
              "      <td>206</td>\n",
              "      <td>3396.566089</td>\n",
              "      <td>0</td>\n",
              "    </tr>\n",
              "    <tr>\n",
              "      <th>4</th>\n",
              "      <td>111</td>\n",
              "      <td>90</td>\n",
              "      <td>4089</td>\n",
              "      <td>90</td>\n",
              "      <td>0.556175</td>\n",
              "      <td>0.490573</td>\n",
              "      <td>2934</td>\n",
              "      <td>1576.514154</td>\n",
              "      <td>1</td>\n",
              "    </tr>\n",
              "    <tr>\n",
              "      <th>5</th>\n",
              "      <td>53</td>\n",
              "      <td>96</td>\n",
              "      <td>1669</td>\n",
              "      <td>162</td>\n",
              "      <td>0.398978</td>\n",
              "      <td>0.421737</td>\n",
              "      <td>991</td>\n",
              "      <td>2337.603777</td>\n",
              "      <td>0</td>\n",
              "    </tr>\n",
              "    <tr>\n",
              "      <th>6</th>\n",
              "      <td>18</td>\n",
              "      <td>137</td>\n",
              "      <td>373</td>\n",
              "      <td>26</td>\n",
              "      <td>0.407108</td>\n",
              "      <td>0.389338</td>\n",
              "      <td>180</td>\n",
              "      <td>2780.961789</td>\n",
              "      <td>0</td>\n",
              "    </tr>\n",
              "    <tr>\n",
              "      <th>7</th>\n",
              "      <td>9</td>\n",
              "      <td>150</td>\n",
              "      <td>563</td>\n",
              "      <td>15</td>\n",
              "      <td>0.187886</td>\n",
              "      <td>0.175525</td>\n",
              "      <td>265</td>\n",
              "      <td>5206.838454</td>\n",
              "      <td>0</td>\n",
              "    </tr>\n",
              "    <tr>\n",
              "      <th>8</th>\n",
              "      <td>56</td>\n",
              "      <td>153</td>\n",
              "      <td>1366</td>\n",
              "      <td>56</td>\n",
              "      <td>0.335469</td>\n",
              "      <td>0.498856</td>\n",
              "      <td>613</td>\n",
              "      <td>2704.490401</td>\n",
              "      <td>0</td>\n",
              "    </tr>\n",
              "    <tr>\n",
              "      <th>9</th>\n",
              "      <td>371</td>\n",
              "      <td>176</td>\n",
              "      <td>5913</td>\n",
              "      <td>31</td>\n",
              "      <td>0.288146</td>\n",
              "      <td>0.608774</td>\n",
              "      <td>3981</td>\n",
              "      <td>4333.989691</td>\n",
              "      <td>0</td>\n",
              "    </tr>\n",
              "    <tr>\n",
              "      <th>10</th>\n",
              "      <td>9552</td>\n",
              "      <td>207</td>\n",
              "      <td>101558</td>\n",
              "      <td>1473</td>\n",
              "      <td>0.383507</td>\n",
              "      <td>0.705315</td>\n",
              "      <td>54098</td>\n",
              "      <td>813.439315</td>\n",
              "      <td>1</td>\n",
              "    </tr>\n",
              "    <tr>\n",
              "      <th>11</th>\n",
              "      <td>42</td>\n",
              "      <td>222</td>\n",
              "      <td>1154</td>\n",
              "      <td>64</td>\n",
              "      <td>0.223269</td>\n",
              "      <td>0.139612</td>\n",
              "      <td>410</td>\n",
              "      <td>4511.632303</td>\n",
              "      <td>0</td>\n",
              "    </tr>\n",
              "    <tr>\n",
              "      <th>12</th>\n",
              "      <td>84</td>\n",
              "      <td>228</td>\n",
              "      <td>1031</td>\n",
              "      <td>39</td>\n",
              "      <td>0.310968</td>\n",
              "      <td>0.237456</td>\n",
              "      <td>578</td>\n",
              "      <td>6272.751840</td>\n",
              "      <td>0</td>\n",
              "    </tr>\n",
              "    <tr>\n",
              "      <th>13</th>\n",
              "      <td>48</td>\n",
              "      <td>237</td>\n",
              "      <td>1307</td>\n",
              "      <td>14</td>\n",
              "      <td>0.203375</td>\n",
              "      <td>0.669183</td>\n",
              "      <td>596</td>\n",
              "      <td>3969.150362</td>\n",
              "      <td>1</td>\n",
              "    </tr>\n",
              "    <tr>\n",
              "      <th>14</th>\n",
              "      <td>30</td>\n",
              "      <td>256</td>\n",
              "      <td>1139</td>\n",
              "      <td>114</td>\n",
              "      <td>0.318486</td>\n",
              "      <td>0.231626</td>\n",
              "      <td>550</td>\n",
              "      <td>4149.002902</td>\n",
              "      <td>0</td>\n",
              "    </tr>\n",
              "    <tr>\n",
              "      <th>15</th>\n",
              "      <td>70</td>\n",
              "      <td>270</td>\n",
              "      <td>976</td>\n",
              "      <td>132</td>\n",
              "      <td>0.246795</td>\n",
              "      <td>0.133974</td>\n",
              "      <td>537</td>\n",
              "      <td>4522.585897</td>\n",
              "      <td>0</td>\n",
              "    </tr>\n",
              "    <tr>\n",
              "      <th>16</th>\n",
              "      <td>73</td>\n",
              "      <td>278</td>\n",
              "      <td>2805</td>\n",
              "      <td>42</td>\n",
              "      <td>0.322342</td>\n",
              "      <td>0.440951</td>\n",
              "      <td>1196</td>\n",
              "      <td>2775.018152</td>\n",
              "      <td>0</td>\n",
              "    </tr>\n",
              "    <tr>\n",
              "      <th>17</th>\n",
              "      <td>258</td>\n",
              "      <td>310</td>\n",
              "      <td>3970</td>\n",
              "      <td>245</td>\n",
              "      <td>0.313795</td>\n",
              "      <td>0.458652</td>\n",
              "      <td>2344</td>\n",
              "      <td>893.981377</td>\n",
              "      <td>1</td>\n",
              "    </tr>\n",
              "    <tr>\n",
              "      <th>18</th>\n",
              "      <td>61</td>\n",
              "      <td>319</td>\n",
              "      <td>1316</td>\n",
              "      <td>168</td>\n",
              "      <td>0.367380</td>\n",
              "      <td>0.343316</td>\n",
              "      <td>558</td>\n",
              "      <td>1033.112765</td>\n",
              "      <td>0</td>\n",
              "    </tr>\n",
              "    <tr>\n",
              "      <th>19</th>\n",
              "      <td>66</td>\n",
              "      <td>344</td>\n",
              "      <td>1478</td>\n",
              "      <td>35</td>\n",
              "      <td>0.092917</td>\n",
              "      <td>0.090000</td>\n",
              "      <td>500</td>\n",
              "      <td>5528.065546</td>\n",
              "      <td>0</td>\n",
              "    </tr>\n",
              "  </tbody>\n",
              "</table>\n",
              "</div>"
            ],
            "text/plain": [
              "    AddressCount  CallsCount  ClicksCount  FirmsCount   GeoPart  MobilePart  \\\n",
              "0            156          20         1903         176  0.416104    0.535762   \n",
              "1             17          37          258          20  0.211679    0.430657   \n",
              "2             78          56         1956         185  0.349475    0.476594   \n",
              "3             14          70          378          19  0.318718    0.463744   \n",
              "4            111          90         4089          90  0.556175    0.490573   \n",
              "5             53          96         1669         162  0.398978    0.421737   \n",
              "6             18         137          373          26  0.407108    0.389338   \n",
              "7              9         150          563          15  0.187886    0.175525   \n",
              "8             56         153         1366          56  0.335469    0.498856   \n",
              "9            371         176         5913          31  0.288146    0.608774   \n",
              "10          9552         207       101558        1473  0.383507    0.705315   \n",
              "11            42         222         1154          64  0.223269    0.139612   \n",
              "12            84         228         1031          39  0.310968    0.237456   \n",
              "13            48         237         1307          14  0.203375    0.669183   \n",
              "14            30         256         1139         114  0.318486    0.231626   \n",
              "15            70         270          976         132  0.246795    0.133974   \n",
              "16            73         278         2805          42  0.322342    0.440951   \n",
              "17           258         310         3970         245  0.313795    0.458652   \n",
              "18            61         319         1316         168  0.367380    0.343316   \n",
              "19            66         344         1478          35  0.092917    0.090000   \n",
              "\n",
              "    UsersCount     Distance  IsGeo  \n",
              "0         1125   749.966084      1  \n",
              "1          157  2289.032424      0  \n",
              "2         1195  1423.376512      1  \n",
              "3          206  3396.566089      0  \n",
              "4         2934  1576.514154      1  \n",
              "5          991  2337.603777      0  \n",
              "6          180  2780.961789      0  \n",
              "7          265  5206.838454      0  \n",
              "8          613  2704.490401      0  \n",
              "9         3981  4333.989691      0  \n",
              "10       54098   813.439315      1  \n",
              "11         410  4511.632303      0  \n",
              "12         578  6272.751840      0  \n",
              "13         596  3969.150362      1  \n",
              "14         550  4149.002902      0  \n",
              "15         537  4522.585897      0  \n",
              "16        1196  2775.018152      0  \n",
              "17        2344   893.981377      1  \n",
              "18         558  1033.112765      0  \n",
              "19         500  5528.065546      0  "
            ]
          },
          "execution_count": 54,
          "metadata": {},
          "output_type": "execute_result"
        }
      ],
      "source": [
        "data.head(20) # выводим первые 20 значенией"
      ]
    },
    {
      "cell_type": "code",
      "execution_count": null,
      "id": "565de477",
      "metadata": {
        "scrolled": false,
        "id": "565de477",
        "outputId": "88362a25-158e-46d6-84bd-a3b2c2853b86"
      },
      "outputs": [
        {
          "name": "stdout",
          "output_type": "stream",
          "text": [
            "<class 'pandas.core.frame.DataFrame'>\n",
            "RangeIndex: 79 entries, 0 to 78\n",
            "Data columns (total 9 columns):\n",
            " #   Column        Non-Null Count  Dtype  \n",
            "---  ------        --------------  -----  \n",
            " 0   AddressCount  79 non-null     int64  \n",
            " 1   CallsCount    79 non-null     int64  \n",
            " 2   ClicksCount   79 non-null     int64  \n",
            " 3   FirmsCount    79 non-null     int64  \n",
            " 4   GeoPart       79 non-null     float64\n",
            " 5   MobilePart    79 non-null     float64\n",
            " 6   UsersCount    79 non-null     int64  \n",
            " 7   Distance      79 non-null     float64\n",
            " 8   IsGeo         79 non-null     int64  \n",
            "dtypes: float64(3), int64(6)\n",
            "memory usage: 5.7 KB\n"
          ]
        }
      ],
      "source": [
        "data.info() # получаем информацию о датасете и его значениях"
      ]
    },
    {
      "cell_type": "code",
      "execution_count": null,
      "id": "95872121",
      "metadata": {
        "scrolled": false,
        "id": "95872121",
        "outputId": "be7a777b-3b26-4591-ec30-b03dca5630fe"
      },
      "outputs": [
        {
          "data": {
            "text/html": [
              "<div>\n",
              "<style scoped>\n",
              "    .dataframe tbody tr th:only-of-type {\n",
              "        vertical-align: middle;\n",
              "    }\n",
              "\n",
              "    .dataframe tbody tr th {\n",
              "        vertical-align: top;\n",
              "    }\n",
              "\n",
              "    .dataframe thead th {\n",
              "        text-align: right;\n",
              "    }\n",
              "</style>\n",
              "<table border=\"1\" class=\"dataframe\">\n",
              "  <thead>\n",
              "    <tr style=\"text-align: right;\">\n",
              "      <th></th>\n",
              "      <th>AddressCount</th>\n",
              "      <th>CallsCount</th>\n",
              "      <th>ClicksCount</th>\n",
              "      <th>FirmsCount</th>\n",
              "      <th>GeoPart</th>\n",
              "      <th>MobilePart</th>\n",
              "      <th>UsersCount</th>\n",
              "      <th>Distance</th>\n",
              "      <th>IsGeo</th>\n",
              "    </tr>\n",
              "  </thead>\n",
              "  <tbody>\n",
              "    <tr>\n",
              "      <th>count</th>\n",
              "      <td>79.000000</td>\n",
              "      <td>79.000000</td>\n",
              "      <td>79.000000</td>\n",
              "      <td>79.000000</td>\n",
              "      <td>79.000000</td>\n",
              "      <td>79.000000</td>\n",
              "      <td>79.000000</td>\n",
              "      <td>79.000000</td>\n",
              "      <td>79.000000</td>\n",
              "    </tr>\n",
              "    <tr>\n",
              "      <th>mean</th>\n",
              "      <td>1048.037975</td>\n",
              "      <td>3648.683544</td>\n",
              "      <td>21826.012658</td>\n",
              "      <td>305.088608</td>\n",
              "      <td>0.342645</td>\n",
              "      <td>0.445746</td>\n",
              "      <td>9753.126582</td>\n",
              "      <td>2669.426352</td>\n",
              "      <td>0.354430</td>\n",
              "    </tr>\n",
              "    <tr>\n",
              "      <th>std</th>\n",
              "      <td>1642.066119</td>\n",
              "      <td>8124.105402</td>\n",
              "      <td>32474.959513</td>\n",
              "      <td>382.052090</td>\n",
              "      <td>0.103608</td>\n",
              "      <td>0.146131</td>\n",
              "      <td>13927.295721</td>\n",
              "      <td>1427.785304</td>\n",
              "      <td>0.481397</td>\n",
              "    </tr>\n",
              "    <tr>\n",
              "      <th>min</th>\n",
              "      <td>9.000000</td>\n",
              "      <td>20.000000</td>\n",
              "      <td>258.000000</td>\n",
              "      <td>14.000000</td>\n",
              "      <td>0.092917</td>\n",
              "      <td>0.090000</td>\n",
              "      <td>157.000000</td>\n",
              "      <td>714.787236</td>\n",
              "      <td>0.000000</td>\n",
              "    </tr>\n",
              "    <tr>\n",
              "      <th>25%</th>\n",
              "      <td>81.000000</td>\n",
              "      <td>346.000000</td>\n",
              "      <td>2055.000000</td>\n",
              "      <td>71.500000</td>\n",
              "      <td>0.281527</td>\n",
              "      <td>0.357293</td>\n",
              "      <td>1167.500000</td>\n",
              "      <td>1562.103740</td>\n",
              "      <td>0.000000</td>\n",
              "    </tr>\n",
              "    <tr>\n",
              "      <th>50%</th>\n",
              "      <td>371.000000</td>\n",
              "      <td>931.000000</td>\n",
              "      <td>6921.000000</td>\n",
              "      <td>185.000000</td>\n",
              "      <td>0.322342</td>\n",
              "      <td>0.463744</td>\n",
              "      <td>2934.000000</td>\n",
              "      <td>2586.503274</td>\n",
              "      <td>0.000000</td>\n",
              "    </tr>\n",
              "    <tr>\n",
              "      <th>75%</th>\n",
              "      <td>1195.000000</td>\n",
              "      <td>2457.500000</td>\n",
              "      <td>30625.500000</td>\n",
              "      <td>402.500000</td>\n",
              "      <td>0.416907</td>\n",
              "      <td>0.551654</td>\n",
              "      <td>13265.000000</td>\n",
              "      <td>3575.692331</td>\n",
              "      <td>1.000000</td>\n",
              "    </tr>\n",
              "    <tr>\n",
              "      <th>max</th>\n",
              "      <td>9552.000000</td>\n",
              "      <td>48497.000000</td>\n",
              "      <td>167155.000000</td>\n",
              "      <td>2379.000000</td>\n",
              "      <td>0.556175</td>\n",
              "      <td>0.737288</td>\n",
              "      <td>61127.000000</td>\n",
              "      <td>6292.207311</td>\n",
              "      <td>1.000000</td>\n",
              "    </tr>\n",
              "  </tbody>\n",
              "</table>\n",
              "</div>"
            ],
            "text/plain": [
              "       AddressCount    CallsCount    ClicksCount   FirmsCount    GeoPart  \\\n",
              "count     79.000000     79.000000      79.000000    79.000000  79.000000   \n",
              "mean    1048.037975   3648.683544   21826.012658   305.088608   0.342645   \n",
              "std     1642.066119   8124.105402   32474.959513   382.052090   0.103608   \n",
              "min        9.000000     20.000000     258.000000    14.000000   0.092917   \n",
              "25%       81.000000    346.000000    2055.000000    71.500000   0.281527   \n",
              "50%      371.000000    931.000000    6921.000000   185.000000   0.322342   \n",
              "75%     1195.000000   2457.500000   30625.500000   402.500000   0.416907   \n",
              "max     9552.000000  48497.000000  167155.000000  2379.000000   0.556175   \n",
              "\n",
              "       MobilePart    UsersCount     Distance      IsGeo  \n",
              "count   79.000000     79.000000    79.000000  79.000000  \n",
              "mean     0.445746   9753.126582  2669.426352   0.354430  \n",
              "std      0.146131  13927.295721  1427.785304   0.481397  \n",
              "min      0.090000    157.000000   714.787236   0.000000  \n",
              "25%      0.357293   1167.500000  1562.103740   0.000000  \n",
              "50%      0.463744   2934.000000  2586.503274   0.000000  \n",
              "75%      0.551654  13265.000000  3575.692331   1.000000  \n",
              "max      0.737288  61127.000000  6292.207311   1.000000  "
            ]
          },
          "execution_count": 56,
          "metadata": {},
          "output_type": "execute_result"
        }
      ],
      "source": [
        "data.describe() # выволим информацию о основных статических показателях датасета"
      ]
    },
    {
      "cell_type": "code",
      "execution_count": null,
      "id": "ff7cb53b",
      "metadata": {
        "id": "ff7cb53b"
      },
      "outputs": [],
      "source": [
        "df = pd.DataFrame(data, columns=['UsersCount', 'Distance'])\n",
        "df = df.astype(int)"
      ]
    },
    {
      "cell_type": "code",
      "execution_count": null,
      "id": "da9b0b30",
      "metadata": {
        "scrolled": true,
        "id": "da9b0b30",
        "outputId": "62a80cbe-136f-4dec-9854-fdff53eceb18"
      },
      "outputs": [
        {
          "data": {
            "text/html": [
              "<div>\n",
              "<style scoped>\n",
              "    .dataframe tbody tr th:only-of-type {\n",
              "        vertical-align: middle;\n",
              "    }\n",
              "\n",
              "    .dataframe tbody tr th {\n",
              "        vertical-align: top;\n",
              "    }\n",
              "\n",
              "    .dataframe thead th {\n",
              "        text-align: right;\n",
              "    }\n",
              "</style>\n",
              "<table border=\"1\" class=\"dataframe\">\n",
              "  <thead>\n",
              "    <tr style=\"text-align: right;\">\n",
              "      <th></th>\n",
              "      <th>UsersCount</th>\n",
              "      <th>Distance</th>\n",
              "    </tr>\n",
              "  </thead>\n",
              "  <tbody>\n",
              "    <tr>\n",
              "      <th>0</th>\n",
              "      <td>1125</td>\n",
              "      <td>749</td>\n",
              "    </tr>\n",
              "    <tr>\n",
              "      <th>1</th>\n",
              "      <td>157</td>\n",
              "      <td>2289</td>\n",
              "    </tr>\n",
              "    <tr>\n",
              "      <th>2</th>\n",
              "      <td>1195</td>\n",
              "      <td>1423</td>\n",
              "    </tr>\n",
              "    <tr>\n",
              "      <th>3</th>\n",
              "      <td>206</td>\n",
              "      <td>3396</td>\n",
              "    </tr>\n",
              "    <tr>\n",
              "      <th>4</th>\n",
              "      <td>2934</td>\n",
              "      <td>1576</td>\n",
              "    </tr>\n",
              "  </tbody>\n",
              "</table>\n",
              "</div>"
            ],
            "text/plain": [
              "   UsersCount  Distance\n",
              "0        1125       749\n",
              "1         157      2289\n",
              "2        1195      1423\n",
              "3         206      3396\n",
              "4        2934      1576"
            ]
          },
          "execution_count": 74,
          "metadata": {},
          "output_type": "execute_result"
        }
      ],
      "source": [
        "df.head()"
      ]
    },
    {
      "cell_type": "markdown",
      "id": "63d349f6",
      "metadata": {
        "id": "63d349f6"
      },
      "source": [
        "# Факторный анализ"
      ]
    },
    {
      "cell_type": "markdown",
      "id": "0fc6d2db",
      "metadata": {
        "id": "0fc6d2db"
      },
      "source": [
        "Для аналиаза был выбран метод факторного анализа. \n",
        "Факторный анализ - это метод сокращения данных. Он исследует базовую структуру наблюдаемых данных, изучая внутренние зависимости между многими переменными, и использует несколько гипотетических переменных для представления своей основной структуры данных. Эти несколько гипотетических переменных могут отражать основную информацию о многих исходных переменных. Исходные переменные - это наблюдаемые и очевидные переменные, а гипотетические переменные - это ненаблюдаемые скрытые переменные, называемые факторами.\n",
        "\n",
        "Например, при осуществлении нашего анализа будет использоваться фактор геозависимости. "
      ]
    },
    {
      "cell_type": "markdown",
      "id": "706ba4eb",
      "metadata": {
        "id": "706ba4eb"
      },
      "source": [
        "Тест Бартлетта проверяет, коррелируют ли наблюдаемые переменные вообще, используя наблюдаемую корреляционную матрицу с единичной матрицей. Если тест оказался статистически незначимым, не следует использовать факторный анализ/"
      ]
    },
    {
      "cell_type": "code",
      "execution_count": null,
      "id": "1cbae993",
      "metadata": {
        "id": "1cbae993",
        "outputId": "9f0132e8-5bb2-4b12-8717-5c0262f36462"
      },
      "outputs": [
        {
          "data": {
            "text/plain": [
              "(14.148980567089612, 0.0001688885951293418)"
            ]
          },
          "execution_count": 60,
          "metadata": {},
          "output_type": "execute_result"
        }
      ],
      "source": [
        "from factor_analyzer.factor_analyzer import calculate_bartlett_sphericity\n",
        "chi_square_value,p_value=calculate_bartlett_sphericity(df)\n",
        "chi_square_value, p_value"
      ]
    },
    {
      "cell_type": "markdown",
      "id": "8e5db97c",
      "metadata": {
        "id": "8e5db97c"
      },
      "source": [
        "В этом тесте Бартлетта p-значение практически равна 0. Тест был статистически значимым, что указывало на то, что наблюдаемая корреляционная матрица не является тождественной матрицей."
      ]
    },
    {
      "cell_type": "markdown",
      "id": "2702c18b",
      "metadata": {
        "id": "2702c18b"
      },
      "source": [
        "Тест Кайзера-Мейера-Олкина (КМО) измеряет пригодность данных для факторного анализа. Он определяет адекватность для каждой наблюдаемой переменной и для всей модели. KMO оценивает долю дисперсии среди всех наблюдаемых переменных. Идентификатор более низкой доли больше подходит для факторного анализа. Значения KMO находятся в диапазоне от 0 до 1. Значение KMO менее 0,5 считается недостаточным."
      ]
    },
    {
      "cell_type": "code",
      "execution_count": null,
      "id": "f0abc689",
      "metadata": {
        "id": "f0abc689",
        "outputId": "0204d1f3-a8d3-4928-d130-07fac66ef05d"
      },
      "outputs": [
        {
          "data": {
            "text/plain": [
              "0.49363083164300225"
            ]
          },
          "execution_count": 61,
          "metadata": {},
          "output_type": "execute_result"
        }
      ],
      "source": [
        "from factor_analyzer.factor_analyzer import calculate_kmo\n",
        "kmo_all,kmo_model=calculate_kmo(df)\n",
        "kmo_model"
      ]
    },
    {
      "cell_type": "markdown",
      "id": "b53d5f29",
      "metadata": {
        "id": "b53d5f29"
      },
      "source": [
        "Итоговый  KMO для наших данных находится у пограничного значения в 0,5, что является средним показателем. Однако, данный показатель позволяет нам продолжить запланированный факторный анализ."
      ]
    },
    {
      "cell_type": "markdown",
      "id": "38ba709d",
      "metadata": {
        "id": "38ba709d"
      },
      "source": [
        "### Выбор количества факторов"
      ]
    },
    {
      "cell_type": "markdown",
      "id": "aecc8d2b",
      "metadata": {
        "id": "aecc8d2b"
      },
      "source": [
        " Для выбора количества факторов можно использовать критерий Кайзера и график осыпи. Оба основаны на собственных значениях."
      ]
    },
    {
      "cell_type": "code",
      "execution_count": null,
      "id": "6c2b17c0",
      "metadata": {
        "id": "6c2b17c0",
        "outputId": "83bc4d5d-b038-4871-849c-0acd847a5845"
      },
      "outputs": [
        {
          "data": {
            "text/plain": [
              "array([1.38393948, 0.61606052])"
            ]
          },
          "execution_count": 81,
          "metadata": {},
          "output_type": "execute_result"
        }
      ],
      "source": [
        "from factor_analyzer import FactorAnalyzer\n",
        "# Проверка значений\n",
        "fa = FactorAnalyzer(10, rotation=None)\n",
        "fa.fit(df)\n",
        "# Check Eigenvalues\n",
        "ev, v = fa.get_eigenvalues()\n",
        "ev"
      ]
    },
    {
      "cell_type": "markdown",
      "id": "060284e8",
      "metadata": {
        "id": "060284e8"
      },
      "source": [
        "Здесь вы можете видеть только один фактор собственные значения больше единицы. Это означает, что нам нужно выбрать только 1 фактор."
      ]
    },
    {
      "cell_type": "code",
      "execution_count": null,
      "id": "b9d43436",
      "metadata": {
        "id": "b9d43436",
        "outputId": "4a76dd16-4add-4676-a8fa-cdbeabbd4a22"
      },
      "outputs": [
        {
          "data": {
            "text/plain": [
              "(array([7.67878956e-01, 2.65443273e-09]),\n",
              " array([3.83939478e-01, 1.32721636e-09]),\n",
              " array([0.38393948, 0.38393948]))"
            ]
          },
          "execution_count": 84,
          "metadata": {},
          "output_type": "execute_result"
        }
      ],
      "source": [
        "fa.get_factor_variance()"
      ]
    },
    {
      "cell_type": "code",
      "execution_count": null,
      "id": "bccb7eb8",
      "metadata": {
        "id": "bccb7eb8"
      },
      "outputs": [],
      "source": [
        "Итоговая 38% кумулятивная дисперсия, объясняемая 1 фактором."
      ]
    },
    {
      "cell_type": "markdown",
      "id": "53a9a6fb",
      "metadata": {
        "id": "53a9a6fb"
      },
      "source": [
        " ## Вывод:"
      ]
    },
    {
      "cell_type": "markdown",
      "id": "ec3dda81",
      "metadata": {
        "id": "ec3dda81"
      },
      "source": [
        "Факторный анализ исследует большой набор данных и находит взаимосвязанные признаки. Он  идентифицирует группы взаимосвязанных переменных, которые помогают исследователям рынка сжимать рыночные ситуации и находить скрытые взаимосвязи между потребительскими вкусами, предпочтениями и территориальной расположенностью. Результаты факторного анализа могут быть противоречивы. Его интерпретации могут быть спорными, потому что для одних и тех же факторов данных можно сделать более одной интерпретации. После идентификации факторов и именования факторов требуется знание предметной области.\n"
      ]
    },
    {
      "cell_type": "markdown",
      "id": "ce78290b",
      "metadata": {
        "id": "ce78290b"
      },
      "source": [
        "# Отчет составил: Наумов Михаил Андреевич"
      ]
    }
  ],
  "metadata": {
    "kernelspec": {
      "display_name": "Python 3",
      "language": "python",
      "name": "python3"
    },
    "language_info": {
      "codemirror_mode": {
        "name": "ipython",
        "version": 3
      },
      "file_extension": ".py",
      "mimetype": "text/x-python",
      "name": "python",
      "nbconvert_exporter": "python",
      "pygments_lexer": "ipython3",
      "version": "3.8.8"
    },
    "colab": {
      "name": "Факторный анализ.ipynb",
      "provenance": [],
      "include_colab_link": true
    }
  },
  "nbformat": 4,
  "nbformat_minor": 5
}